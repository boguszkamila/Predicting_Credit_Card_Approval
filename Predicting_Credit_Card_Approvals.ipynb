{
 "cells": [
  {
   "attachments": {},
   "cell_type": "markdown",
   "metadata": {},
   "source": [
    "## Libraries"
   ]
  },
  {
   "cell_type": "code",
   "execution_count": 367,
   "metadata": {},
   "outputs": [],
   "source": [
    "import pandas as pd\n",
    "import numpy as np\n",
    "from scipy.stats import chi2_contingency\n",
    "from sklearn.preprocessing import OneHotEncoder\n",
    "from statsmodels.stats.outliers_influence import variance_inflation_factor\n",
    "from statsmodels.tools.tools import add_constant\n",
    "from statsmodels.stats.outliers_influence import variance_inflation_factor\n",
    "from sklearn.model_selection import train_test_split\n",
    "from sklearn.preprocessing import MinMaxScaler\n",
    "from sklearn.pipeline import Pipeline\n",
    "from sklearn.linear_model import LogisticRegression\n",
    "from sklearn.metrics import confusion_matrix\n",
    "from sklearn.model_selection import KFold\n",
    "from sklearn.model_selection import GridSearchCV\n",
    "import matplotlib.pyplot as plt"
   ]
  },
  {
   "attachments": {},
   "cell_type": "markdown",
   "metadata": {},
   "source": [
    "## Data review"
   ]
  },
  {
   "cell_type": "code",
   "execution_count": 368,
   "metadata": {},
   "outputs": [
    {
     "data": {
      "text/html": [
       "<div>\n",
       "<style scoped>\n",
       "    .dataframe tbody tr th:only-of-type {\n",
       "        vertical-align: middle;\n",
       "    }\n",
       "\n",
       "    .dataframe tbody tr th {\n",
       "        vertical-align: top;\n",
       "    }\n",
       "\n",
       "    .dataframe thead th {\n",
       "        text-align: right;\n",
       "    }\n",
       "</style>\n",
       "<table border=\"1\" class=\"dataframe\">\n",
       "  <thead>\n",
       "    <tr style=\"text-align: right;\">\n",
       "      <th></th>\n",
       "      <th>0</th>\n",
       "      <th>1</th>\n",
       "      <th>2</th>\n",
       "      <th>3</th>\n",
       "      <th>4</th>\n",
       "      <th>5</th>\n",
       "      <th>6</th>\n",
       "      <th>7</th>\n",
       "      <th>8</th>\n",
       "      <th>9</th>\n",
       "      <th>10</th>\n",
       "      <th>11</th>\n",
       "      <th>12</th>\n",
       "      <th>13</th>\n",
       "      <th>14</th>\n",
       "      <th>15</th>\n",
       "    </tr>\n",
       "  </thead>\n",
       "  <tbody>\n",
       "    <tr>\n",
       "      <th>0</th>\n",
       "      <td>b</td>\n",
       "      <td>30.83</td>\n",
       "      <td>0.000</td>\n",
       "      <td>u</td>\n",
       "      <td>g</td>\n",
       "      <td>w</td>\n",
       "      <td>v</td>\n",
       "      <td>1.25</td>\n",
       "      <td>t</td>\n",
       "      <td>t</td>\n",
       "      <td>1</td>\n",
       "      <td>f</td>\n",
       "      <td>g</td>\n",
       "      <td>00202</td>\n",
       "      <td>0</td>\n",
       "      <td>+</td>\n",
       "    </tr>\n",
       "    <tr>\n",
       "      <th>1</th>\n",
       "      <td>a</td>\n",
       "      <td>58.67</td>\n",
       "      <td>4.460</td>\n",
       "      <td>u</td>\n",
       "      <td>g</td>\n",
       "      <td>q</td>\n",
       "      <td>h</td>\n",
       "      <td>3.04</td>\n",
       "      <td>t</td>\n",
       "      <td>t</td>\n",
       "      <td>6</td>\n",
       "      <td>f</td>\n",
       "      <td>g</td>\n",
       "      <td>00043</td>\n",
       "      <td>560</td>\n",
       "      <td>+</td>\n",
       "    </tr>\n",
       "    <tr>\n",
       "      <th>2</th>\n",
       "      <td>a</td>\n",
       "      <td>24.50</td>\n",
       "      <td>0.500</td>\n",
       "      <td>u</td>\n",
       "      <td>g</td>\n",
       "      <td>q</td>\n",
       "      <td>h</td>\n",
       "      <td>1.50</td>\n",
       "      <td>t</td>\n",
       "      <td>f</td>\n",
       "      <td>0</td>\n",
       "      <td>f</td>\n",
       "      <td>g</td>\n",
       "      <td>00280</td>\n",
       "      <td>824</td>\n",
       "      <td>+</td>\n",
       "    </tr>\n",
       "    <tr>\n",
       "      <th>3</th>\n",
       "      <td>b</td>\n",
       "      <td>27.83</td>\n",
       "      <td>1.540</td>\n",
       "      <td>u</td>\n",
       "      <td>g</td>\n",
       "      <td>w</td>\n",
       "      <td>v</td>\n",
       "      <td>3.75</td>\n",
       "      <td>t</td>\n",
       "      <td>t</td>\n",
       "      <td>5</td>\n",
       "      <td>t</td>\n",
       "      <td>g</td>\n",
       "      <td>00100</td>\n",
       "      <td>3</td>\n",
       "      <td>+</td>\n",
       "    </tr>\n",
       "    <tr>\n",
       "      <th>4</th>\n",
       "      <td>b</td>\n",
       "      <td>20.17</td>\n",
       "      <td>5.625</td>\n",
       "      <td>u</td>\n",
       "      <td>g</td>\n",
       "      <td>w</td>\n",
       "      <td>v</td>\n",
       "      <td>1.71</td>\n",
       "      <td>t</td>\n",
       "      <td>f</td>\n",
       "      <td>0</td>\n",
       "      <td>f</td>\n",
       "      <td>s</td>\n",
       "      <td>00120</td>\n",
       "      <td>0</td>\n",
       "      <td>+</td>\n",
       "    </tr>\n",
       "  </tbody>\n",
       "</table>\n",
       "</div>"
      ],
      "text/plain": [
       "  0      1      2  3  4  5  6     7  8  9   10 11 12     13   14 15\n",
       "0  b  30.83  0.000  u  g  w  v  1.25  t  t   1  f  g  00202    0  +\n",
       "1  a  58.67  4.460  u  g  q  h  3.04  t  t   6  f  g  00043  560  +\n",
       "2  a  24.50  0.500  u  g  q  h  1.50  t  f   0  f  g  00280  824  +\n",
       "3  b  27.83  1.540  u  g  w  v  3.75  t  t   5  t  g  00100    3  +\n",
       "4  b  20.17  5.625  u  g  w  v  1.71  t  f   0  f  s  00120    0  +"
      ]
     },
     "execution_count": 368,
     "metadata": {},
     "output_type": "execute_result"
    }
   ],
   "source": [
    "card_data = pd.read_csv(\"/Users/a123456/Desktop/Projekty/Predicting_Credit_Card_Approvals/credit+approval/crx.data\",header=None) \n",
    "cc_apps=card_data.copy()\n",
    "cc_apps.head()"
   ]
  },
  {
   "cell_type": "code",
   "execution_count": 369,
   "metadata": {},
   "outputs": [
    {
     "data": {
      "text/html": [
       "<div>\n",
       "<style scoped>\n",
       "    .dataframe tbody tr th:only-of-type {\n",
       "        vertical-align: middle;\n",
       "    }\n",
       "\n",
       "    .dataframe tbody tr th {\n",
       "        vertical-align: top;\n",
       "    }\n",
       "\n",
       "    .dataframe thead th {\n",
       "        text-align: right;\n",
       "    }\n",
       "</style>\n",
       "<table border=\"1\" class=\"dataframe\">\n",
       "  <thead>\n",
       "    <tr style=\"text-align: right;\">\n",
       "      <th></th>\n",
       "      <th>2</th>\n",
       "      <th>7</th>\n",
       "      <th>10</th>\n",
       "      <th>14</th>\n",
       "    </tr>\n",
       "  </thead>\n",
       "  <tbody>\n",
       "    <tr>\n",
       "      <th>count</th>\n",
       "      <td>690.000000</td>\n",
       "      <td>690.000000</td>\n",
       "      <td>690.00000</td>\n",
       "      <td>690.000000</td>\n",
       "    </tr>\n",
       "    <tr>\n",
       "      <th>mean</th>\n",
       "      <td>4.758725</td>\n",
       "      <td>2.223406</td>\n",
       "      <td>2.40000</td>\n",
       "      <td>1017.385507</td>\n",
       "    </tr>\n",
       "    <tr>\n",
       "      <th>std</th>\n",
       "      <td>4.978163</td>\n",
       "      <td>3.346513</td>\n",
       "      <td>4.86294</td>\n",
       "      <td>5210.102598</td>\n",
       "    </tr>\n",
       "    <tr>\n",
       "      <th>min</th>\n",
       "      <td>0.000000</td>\n",
       "      <td>0.000000</td>\n",
       "      <td>0.00000</td>\n",
       "      <td>0.000000</td>\n",
       "    </tr>\n",
       "    <tr>\n",
       "      <th>25%</th>\n",
       "      <td>1.000000</td>\n",
       "      <td>0.165000</td>\n",
       "      <td>0.00000</td>\n",
       "      <td>0.000000</td>\n",
       "    </tr>\n",
       "    <tr>\n",
       "      <th>50%</th>\n",
       "      <td>2.750000</td>\n",
       "      <td>1.000000</td>\n",
       "      <td>0.00000</td>\n",
       "      <td>5.000000</td>\n",
       "    </tr>\n",
       "    <tr>\n",
       "      <th>75%</th>\n",
       "      <td>7.207500</td>\n",
       "      <td>2.625000</td>\n",
       "      <td>3.00000</td>\n",
       "      <td>395.500000</td>\n",
       "    </tr>\n",
       "    <tr>\n",
       "      <th>max</th>\n",
       "      <td>28.000000</td>\n",
       "      <td>28.500000</td>\n",
       "      <td>67.00000</td>\n",
       "      <td>100000.000000</td>\n",
       "    </tr>\n",
       "  </tbody>\n",
       "</table>\n",
       "</div>"
      ],
      "text/plain": [
       "               2           7          10             14\n",
       "count  690.000000  690.000000  690.00000     690.000000\n",
       "mean     4.758725    2.223406    2.40000    1017.385507\n",
       "std      4.978163    3.346513    4.86294    5210.102598\n",
       "min      0.000000    0.000000    0.00000       0.000000\n",
       "25%      1.000000    0.165000    0.00000       0.000000\n",
       "50%      2.750000    1.000000    0.00000       5.000000\n",
       "75%      7.207500    2.625000    3.00000     395.500000\n",
       "max     28.000000   28.500000   67.00000  100000.000000"
      ]
     },
     "execution_count": 369,
     "metadata": {},
     "output_type": "execute_result"
    }
   ],
   "source": [
    "cc_apps.describe()"
   ]
  },
  {
   "cell_type": "code",
   "execution_count": 370,
   "metadata": {},
   "outputs": [
    {
     "name": "stdout",
     "output_type": "stream",
     "text": [
      "<class 'pandas.core.frame.DataFrame'>\n",
      "RangeIndex: 690 entries, 0 to 689\n",
      "Data columns (total 16 columns):\n",
      " #   Column  Non-Null Count  Dtype  \n",
      "---  ------  --------------  -----  \n",
      " 0   0       690 non-null    object \n",
      " 1   1       690 non-null    object \n",
      " 2   2       690 non-null    float64\n",
      " 3   3       690 non-null    object \n",
      " 4   4       690 non-null    object \n",
      " 5   5       690 non-null    object \n",
      " 6   6       690 non-null    object \n",
      " 7   7       690 non-null    float64\n",
      " 8   8       690 non-null    object \n",
      " 9   9       690 non-null    object \n",
      " 10  10      690 non-null    int64  \n",
      " 11  11      690 non-null    object \n",
      " 12  12      690 non-null    object \n",
      " 13  13      690 non-null    object \n",
      " 14  14      690 non-null    int64  \n",
      " 15  15      690 non-null    object \n",
      "dtypes: float64(2), int64(2), object(12)\n",
      "memory usage: 86.4+ KB\n"
     ]
    }
   ],
   "source": [
    "cc_apps.info()"
   ]
  },
  {
   "attachments": {},
   "cell_type": "markdown",
   "metadata": {},
   "source": [
    "## Cleaning data"
   ]
  },
  {
   "attachments": {},
   "cell_type": "markdown",
   "metadata": {},
   "source": [
    "Deletion of non-relevant data"
   ]
  },
  {
   "cell_type": "code",
   "execution_count": 371,
   "metadata": {},
   "outputs": [],
   "source": [
    "cc_apps=cc_apps.drop(cc_apps.columns[[1,11,13]],axis=1)\n",
    "cc_apps = cc_apps.reset_index(drop=True)"
   ]
  },
  {
   "attachments": {},
   "cell_type": "markdown",
   "metadata": {},
   "source": [
    "Columns names updating"
   ]
  },
  {
   "cell_type": "code",
   "execution_count": 372,
   "metadata": {},
   "outputs": [
    {
     "data": {
      "text/html": [
       "<div>\n",
       "<style scoped>\n",
       "    .dataframe tbody tr th:only-of-type {\n",
       "        vertical-align: middle;\n",
       "    }\n",
       "\n",
       "    .dataframe tbody tr th {\n",
       "        vertical-align: top;\n",
       "    }\n",
       "\n",
       "    .dataframe thead th {\n",
       "        text-align: right;\n",
       "    }\n",
       "</style>\n",
       "<table border=\"1\" class=\"dataframe\">\n",
       "  <thead>\n",
       "    <tr style=\"text-align: right;\">\n",
       "      <th></th>\n",
       "      <th>0</th>\n",
       "      <th>1</th>\n",
       "      <th>2</th>\n",
       "      <th>3</th>\n",
       "      <th>4</th>\n",
       "      <th>5</th>\n",
       "      <th>6</th>\n",
       "      <th>7</th>\n",
       "      <th>8</th>\n",
       "      <th>9</th>\n",
       "      <th>10</th>\n",
       "      <th>11</th>\n",
       "      <th>12</th>\n",
       "    </tr>\n",
       "  </thead>\n",
       "  <tbody>\n",
       "    <tr>\n",
       "      <th>0</th>\n",
       "      <td>b</td>\n",
       "      <td>0.000</td>\n",
       "      <td>u</td>\n",
       "      <td>g</td>\n",
       "      <td>w</td>\n",
       "      <td>v</td>\n",
       "      <td>1.25</td>\n",
       "      <td>t</td>\n",
       "      <td>t</td>\n",
       "      <td>1</td>\n",
       "      <td>g</td>\n",
       "      <td>0</td>\n",
       "      <td>+</td>\n",
       "    </tr>\n",
       "    <tr>\n",
       "      <th>1</th>\n",
       "      <td>a</td>\n",
       "      <td>4.460</td>\n",
       "      <td>u</td>\n",
       "      <td>g</td>\n",
       "      <td>q</td>\n",
       "      <td>h</td>\n",
       "      <td>3.04</td>\n",
       "      <td>t</td>\n",
       "      <td>t</td>\n",
       "      <td>6</td>\n",
       "      <td>g</td>\n",
       "      <td>560</td>\n",
       "      <td>+</td>\n",
       "    </tr>\n",
       "    <tr>\n",
       "      <th>2</th>\n",
       "      <td>a</td>\n",
       "      <td>0.500</td>\n",
       "      <td>u</td>\n",
       "      <td>g</td>\n",
       "      <td>q</td>\n",
       "      <td>h</td>\n",
       "      <td>1.50</td>\n",
       "      <td>t</td>\n",
       "      <td>f</td>\n",
       "      <td>0</td>\n",
       "      <td>g</td>\n",
       "      <td>824</td>\n",
       "      <td>+</td>\n",
       "    </tr>\n",
       "    <tr>\n",
       "      <th>3</th>\n",
       "      <td>b</td>\n",
       "      <td>1.540</td>\n",
       "      <td>u</td>\n",
       "      <td>g</td>\n",
       "      <td>w</td>\n",
       "      <td>v</td>\n",
       "      <td>3.75</td>\n",
       "      <td>t</td>\n",
       "      <td>t</td>\n",
       "      <td>5</td>\n",
       "      <td>g</td>\n",
       "      <td>3</td>\n",
       "      <td>+</td>\n",
       "    </tr>\n",
       "    <tr>\n",
       "      <th>4</th>\n",
       "      <td>b</td>\n",
       "      <td>5.625</td>\n",
       "      <td>u</td>\n",
       "      <td>g</td>\n",
       "      <td>w</td>\n",
       "      <td>v</td>\n",
       "      <td>1.71</td>\n",
       "      <td>t</td>\n",
       "      <td>f</td>\n",
       "      <td>0</td>\n",
       "      <td>s</td>\n",
       "      <td>0</td>\n",
       "      <td>+</td>\n",
       "    </tr>\n",
       "  </tbody>\n",
       "</table>\n",
       "</div>"
      ],
      "text/plain": [
       "   0      1  2  3  4  5     6  7  8  9 10   11 12\n",
       "0  b  0.000  u  g  w  v  1.25  t  t  1  g    0  +\n",
       "1  a  4.460  u  g  q  h  3.04  t  t  6  g  560  +\n",
       "2  a  0.500  u  g  q  h  1.50  t  f  0  g  824  +\n",
       "3  b  1.540  u  g  w  v  3.75  t  t  5  g    3  +\n",
       "4  b  5.625  u  g  w  v  1.71  t  f  0  s    0  +"
      ]
     },
     "execution_count": 372,
     "metadata": {},
     "output_type": "execute_result"
    }
   ],
   "source": [
    "cc_apps.columns = [str(i) for i in range(cc_apps.shape[1])] \n",
    "cc_apps.head()"
   ]
  },
  {
   "attachments": {},
   "cell_type": "markdown",
   "metadata": {},
   "source": [
    "### Missing values"
   ]
  },
  {
   "cell_type": "code",
   "execution_count": 373,
   "metadata": {},
   "outputs": [],
   "source": [
    "cc_apps = cc_apps.replace('?', pd.NA)"
   ]
  },
  {
   "cell_type": "code",
   "execution_count": 374,
   "metadata": {},
   "outputs": [
    {
     "data": {
      "text/plain": [
       "0     12\n",
       "1      0\n",
       "2      6\n",
       "3      6\n",
       "4      9\n",
       "5      9\n",
       "6      0\n",
       "7      0\n",
       "8      0\n",
       "9      0\n",
       "10     0\n",
       "11     0\n",
       "12     0\n",
       "dtype: int64"
      ]
     },
     "execution_count": 374,
     "metadata": {},
     "output_type": "execute_result"
    }
   ],
   "source": [
    "cc_apps.isna().sum()"
   ]
  },
  {
   "attachments": {},
   "cell_type": "markdown",
   "metadata": {},
   "source": [
    "Maximum percentage of deleted data per column "
   ]
  },
  {
   "cell_type": "code",
   "execution_count": 375,
   "metadata": {},
   "outputs": [
    {
     "data": {
      "text/plain": [
       "1.7391304347826086"
      ]
     },
     "execution_count": 375,
     "metadata": {},
     "output_type": "execute_result"
    }
   ],
   "source": [
    "12*100/690"
   ]
  },
  {
   "attachments": {},
   "cell_type": "markdown",
   "metadata": {},
   "source": [
    "Percentage of deleted data"
   ]
  },
  {
   "cell_type": "code",
   "execution_count": 376,
   "metadata": {},
   "outputs": [
    {
     "data": {
      "text/plain": [
       "6.086956521739131"
      ]
     },
     "execution_count": 376,
     "metadata": {},
     "output_type": "execute_result"
    }
   ],
   "source": [
    "(cc_apps.isna().sum().sum())*100/690"
   ]
  },
  {
   "cell_type": "code",
   "execution_count": 377,
   "metadata": {},
   "outputs": [],
   "source": [
    "cc_apps.dropna(axis=0, inplace=True)"
   ]
  },
  {
   "cell_type": "code",
   "execution_count": 378,
   "metadata": {},
   "outputs": [
    {
     "data": {
      "text/plain": [
       "0     0\n",
       "1     0\n",
       "2     0\n",
       "3     0\n",
       "4     0\n",
       "5     0\n",
       "6     0\n",
       "7     0\n",
       "8     0\n",
       "9     0\n",
       "10    0\n",
       "11    0\n",
       "12    0\n",
       "dtype: int64"
      ]
     },
     "execution_count": 378,
     "metadata": {},
     "output_type": "execute_result"
    }
   ],
   "source": [
    "cc_apps.isna().sum()"
   ]
  },
  {
   "attachments": {},
   "cell_type": "markdown",
   "metadata": {},
   "source": [
    "## Checking data"
   ]
  },
  {
   "attachments": {},
   "cell_type": "markdown",
   "metadata": {},
   "source": [
    "The chi-squared test assesses whether there is a significant association between two categorical variables. It helps to determine if the observed frequencies differ from the frequencies expected under the assumption of independence.\n",
    "- (H0): There is no association between the variables (they are independent).\n",
    "- (H1): There is an association between the variables (they are not independent)."
   ]
  },
  {
   "cell_type": "code",
   "execution_count": 379,
   "metadata": {},
   "outputs": [
    {
     "data": {
      "text/html": [
       "<div>\n",
       "<style scoped>\n",
       "    .dataframe tbody tr th:only-of-type {\n",
       "        vertical-align: middle;\n",
       "    }\n",
       "\n",
       "    .dataframe tbody tr th {\n",
       "        vertical-align: top;\n",
       "    }\n",
       "\n",
       "    .dataframe thead th {\n",
       "        text-align: right;\n",
       "    }\n",
       "</style>\n",
       "<table border=\"1\" class=\"dataframe\">\n",
       "  <thead>\n",
       "    <tr style=\"text-align: right;\">\n",
       "      <th></th>\n",
       "      <th>0</th>\n",
       "      <th>1</th>\n",
       "      <th>2</th>\n",
       "      <th>3</th>\n",
       "      <th>4</th>\n",
       "      <th>5</th>\n",
       "      <th>6</th>\n",
       "      <th>7</th>\n",
       "      <th>8</th>\n",
       "      <th>9</th>\n",
       "      <th>10</th>\n",
       "      <th>11</th>\n",
       "      <th>12</th>\n",
       "    </tr>\n",
       "  </thead>\n",
       "  <tbody>\n",
       "    <tr>\n",
       "      <th>0</th>\n",
       "      <td>b</td>\n",
       "      <td>0.000</td>\n",
       "      <td>u</td>\n",
       "      <td>g</td>\n",
       "      <td>w</td>\n",
       "      <td>v</td>\n",
       "      <td>1.25</td>\n",
       "      <td>t</td>\n",
       "      <td>t</td>\n",
       "      <td>1</td>\n",
       "      <td>g</td>\n",
       "      <td>0</td>\n",
       "      <td>+</td>\n",
       "    </tr>\n",
       "    <tr>\n",
       "      <th>1</th>\n",
       "      <td>a</td>\n",
       "      <td>4.460</td>\n",
       "      <td>u</td>\n",
       "      <td>g</td>\n",
       "      <td>q</td>\n",
       "      <td>h</td>\n",
       "      <td>3.04</td>\n",
       "      <td>t</td>\n",
       "      <td>t</td>\n",
       "      <td>6</td>\n",
       "      <td>g</td>\n",
       "      <td>560</td>\n",
       "      <td>+</td>\n",
       "    </tr>\n",
       "    <tr>\n",
       "      <th>2</th>\n",
       "      <td>a</td>\n",
       "      <td>0.500</td>\n",
       "      <td>u</td>\n",
       "      <td>g</td>\n",
       "      <td>q</td>\n",
       "      <td>h</td>\n",
       "      <td>1.50</td>\n",
       "      <td>t</td>\n",
       "      <td>f</td>\n",
       "      <td>0</td>\n",
       "      <td>g</td>\n",
       "      <td>824</td>\n",
       "      <td>+</td>\n",
       "    </tr>\n",
       "    <tr>\n",
       "      <th>3</th>\n",
       "      <td>b</td>\n",
       "      <td>1.540</td>\n",
       "      <td>u</td>\n",
       "      <td>g</td>\n",
       "      <td>w</td>\n",
       "      <td>v</td>\n",
       "      <td>3.75</td>\n",
       "      <td>t</td>\n",
       "      <td>t</td>\n",
       "      <td>5</td>\n",
       "      <td>g</td>\n",
       "      <td>3</td>\n",
       "      <td>+</td>\n",
       "    </tr>\n",
       "    <tr>\n",
       "      <th>4</th>\n",
       "      <td>b</td>\n",
       "      <td>5.625</td>\n",
       "      <td>u</td>\n",
       "      <td>g</td>\n",
       "      <td>w</td>\n",
       "      <td>v</td>\n",
       "      <td>1.71</td>\n",
       "      <td>t</td>\n",
       "      <td>f</td>\n",
       "      <td>0</td>\n",
       "      <td>s</td>\n",
       "      <td>0</td>\n",
       "      <td>+</td>\n",
       "    </tr>\n",
       "  </tbody>\n",
       "</table>\n",
       "</div>"
      ],
      "text/plain": [
       "   0      1  2  3  4  5     6  7  8  9 10   11 12\n",
       "0  b  0.000  u  g  w  v  1.25  t  t  1  g    0  +\n",
       "1  a  4.460  u  g  q  h  3.04  t  t  6  g  560  +\n",
       "2  a  0.500  u  g  q  h  1.50  t  f  0  g  824  +\n",
       "3  b  1.540  u  g  w  v  3.75  t  t  5  g    3  +\n",
       "4  b  5.625  u  g  w  v  1.71  t  f  0  s    0  +"
      ]
     },
     "execution_count": 379,
     "metadata": {},
     "output_type": "execute_result"
    }
   ],
   "source": [
    "cc_apps.head()"
   ]
  },
  {
   "cell_type": "code",
   "execution_count": 380,
   "metadata": {},
   "outputs": [],
   "source": [
    "def ch_2bonf(df):\n",
    "    zmienne = list(df.columns)\n",
    "    liczba_testow = len(zmienne) * (len(zmienne) - 1) / 2 #Liczba wszystkich możliwych par testów\n",
    "    alfa_bonferroni = 0.05 / liczba_testow\n",
    "    print(f\"Skorygowany poziom istotności: {alfa_bonferroni}\")\n",
    "\n",
    "    for i in range(len(zmienne)):\n",
    "        for j in range(i+1, len(zmienne)):\n",
    "            tabela_przestawna = pd.crosstab(df[zmienne[i]], df[zmienne[j]])\n",
    "            stat, p, dof, expected = chi2_contingency(tabela_przestawna)\n",
    "            if p >= alfa_bonferroni:\n",
    "                print(f\"Nie znaleziono statystycznie istotnej zależności.\")\n",
    "                print(f\"Test chi-kwadrat dla {zmienne[i]} vs {zmienne[j]}:\")\n",
    "                print(f\"Statystyka={stat}, p={p}\\n\")"
   ]
  },
  {
   "cell_type": "code",
   "execution_count": 381,
   "metadata": {},
   "outputs": [
    {
     "name": "stdout",
     "output_type": "stream",
     "text": [
      "Skorygowany poziom istotności: 0.000641025641025641\n",
      "Nie znaleziono statystycznie istotnej zależności.\n",
      "Test chi-kwadrat dla 0 vs 1:\n",
      "Statystyka=203.8320078047908, p=0.6797982234230798\n",
      "\n",
      "Nie znaleziono statystycznie istotnej zależności.\n",
      "Test chi-kwadrat dla 0 vs 2:\n",
      "Statystyka=3.6013420014079203, p=0.16518800975515074\n",
      "\n",
      "Nie znaleziono statystycznie istotnej zależności.\n",
      "Test chi-kwadrat dla 0 vs 3:\n",
      "Statystyka=3.6013420014079203, p=0.16518800975515074\n",
      "\n",
      "Nie znaleziono statystycznie istotnej zależności.\n",
      "Test chi-kwadrat dla 0 vs 6:\n",
      "Statystyka=128.2607863155258, p=0.5513802701281089\n",
      "\n",
      "Nie znaleziono statystycznie istotnej zależności.\n",
      "Test chi-kwadrat dla 0 vs 7:\n",
      "Statystyka=0.17853936110796703, p=0.6726315069582038\n",
      "\n",
      "Nie znaleziono statystycznie istotnej zależności.\n",
      "Test chi-kwadrat dla 0 vs 8:\n",
      "Statystyka=3.4201884325996894, p=0.06440366163285269\n",
      "\n",
      "Nie znaleziono statystycznie istotnej zależności.\n",
      "Test chi-kwadrat dla 0 vs 9:\n",
      "Statystyka=22.4624209132364, p=0.4325950904193057\n",
      "\n",
      "Nie znaleziono statystycznie istotnej zależności.\n",
      "Test chi-kwadrat dla 0 vs 10:\n",
      "Statystyka=5.570248163659813, p=0.061721430047813504\n",
      "\n",
      "Nie znaleziono statystycznie istotnej zależności.\n",
      "Test chi-kwadrat dla 0 vs 11:\n",
      "Statystyka=254.7913838622956, p=0.15618437787204503\n",
      "\n",
      "Nie znaleziono statystycznie istotnej zależności.\n",
      "Test chi-kwadrat dla 0 vs 12:\n",
      "Statystyka=0.1767909638113253, p=0.6741456644073701\n",
      "\n",
      "Nie znaleziono statystycznie istotnej zależności.\n",
      "Test chi-kwadrat dla 1 vs 4:\n",
      "Statystyka=2745.957048621096, p=0.6830893185240212\n",
      "\n",
      "Nie znaleziono statystycznie istotnej zależności.\n",
      "Test chi-kwadrat dla 1 vs 7:\n",
      "Statystyka=235.38874452528722, p=0.15073877118108356\n",
      "\n",
      "Nie znaleziono statystycznie istotnej zależności.\n",
      "Test chi-kwadrat dla 1 vs 8:\n",
      "Statystyka=233.75410574331102, p=0.16879236191013286\n",
      "\n",
      "Nie znaleziono statystycznie istotnej zależności.\n",
      "Test chi-kwadrat dla 1 vs 12:\n",
      "Statystyka=236.62219425174135, p=0.13804933127074484\n",
      "\n",
      "Nie znaleziono statystycznie istotnej zależności.\n",
      "Test chi-kwadrat dla 2 vs 4:\n",
      "Statystyka=34.97558236963286, p=0.11217787189349582\n",
      "\n",
      "Nie znaleziono statystycznie istotnej zależności.\n",
      "Test chi-kwadrat dla 2 vs 6:\n",
      "Statystyka=193.2188611288894, p=0.9994942452879575\n",
      "\n",
      "Nie znaleziono statystycznie istotnej zależności.\n",
      "Test chi-kwadrat dla 2 vs 9:\n",
      "Statystyka=41.320946977728134, p=0.5870997066658245\n",
      "\n",
      "Nie znaleziono statystycznie istotnej zależności.\n",
      "Test chi-kwadrat dla 2 vs 11:\n",
      "Statystyka=556.413262198844, p=0.0024718267562594746\n",
      "\n",
      "Nie znaleziono statystycznie istotnej zależności.\n",
      "Test chi-kwadrat dla 3 vs 4:\n",
      "Statystyka=34.97558236963286, p=0.11217787189349582\n",
      "\n",
      "Nie znaleziono statystycznie istotnej zależności.\n",
      "Test chi-kwadrat dla 3 vs 6:\n",
      "Statystyka=193.21886112888942, p=0.9994942452879575\n",
      "\n",
      "Nie znaleziono statystycznie istotnej zależności.\n",
      "Test chi-kwadrat dla 3 vs 9:\n",
      "Statystyka=41.320946977728134, p=0.5870997066658245\n",
      "\n",
      "Nie znaleziono statystycznie istotnej zależności.\n",
      "Test chi-kwadrat dla 3 vs 11:\n",
      "Statystyka=556.4132621988439, p=0.002471826756259502\n",
      "\n",
      "Nie znaleziono statystycznie istotnej zależności.\n",
      "Test chi-kwadrat dla 4 vs 9:\n",
      "Statystyka=299.76237330515926, p=0.2761812111912485\n",
      "\n",
      "Nie znaleziono statystycznie istotnej zależności.\n",
      "Test chi-kwadrat dla 4 vs 11:\n",
      "Statystyka=3273.7303032547443, p=0.0010635013827538274\n",
      "\n",
      "Nie znaleziono statystycznie istotnej zależności.\n",
      "Test chi-kwadrat dla 5 vs 8:\n",
      "Statystyka=11.31733854107228, p=0.1843584438183134\n",
      "\n",
      "Nie znaleziono statystycznie istotnej zależności.\n",
      "Test chi-kwadrat dla 5 vs 9:\n",
      "Statystyka=181.5310205913683, p=0.3717497381244251\n",
      "\n",
      "Nie znaleziono statystycznie istotnej zależności.\n",
      "Test chi-kwadrat dla 6 vs 10:\n",
      "Statystyka=137.7099198462277, p=0.9999999999820209\n",
      "\n",
      "Nie znaleziono statystycznie istotnej zależności.\n",
      "Test chi-kwadrat dla 7 vs 10:\n",
      "Statystyka=7.953808680191365, p=0.018743573347947722\n",
      "\n",
      "Nie znaleziono statystycznie istotnej zależności.\n",
      "Test chi-kwadrat dla 7 vs 11:\n",
      "Statystyka=292.8445748621559, p=0.00472381448968545\n",
      "\n",
      "Nie znaleziono statystycznie istotnej zależności.\n",
      "Test chi-kwadrat dla 9 vs 10:\n",
      "Statystyka=38.477705207861774, p=0.7065626478799922\n",
      "\n",
      "Nie znaleziono statystycznie istotnej zależności.\n",
      "Test chi-kwadrat dla 10 vs 11:\n",
      "Statystyka=414.0259852807915, p=0.9597831961703829\n",
      "\n",
      "Nie znaleziono statystycznie istotnej zależności.\n",
      "Test chi-kwadrat dla 10 vs 12:\n",
      "Statystyka=7.379849235127643, p=0.024973884563579983\n",
      "\n",
      "Nie znaleziono statystycznie istotnej zależności.\n",
      "Test chi-kwadrat dla 11 vs 12:\n",
      "Statystyka=308.0587333101396, p=0.0007081543084538647\n",
      "\n"
     ]
    }
   ],
   "source": [
    "ch2result=ch_2bonf(cc_apps)\n",
    "ch2result"
   ]
  },
  {
   "attachments": {},
   "cell_type": "markdown",
   "metadata": {},
   "source": [
    "- There are no grounds to reject the null hypothesis. \n",
    "- After using the chi-squared test, it’s crucial to ensure these predictors do not exhibit multicollinearity. VIF quantifies how much the variance of a regression coefficient is inflated due to collinearity with other predictors. High VIF values indicate that a predictor has a strong linear relationship with other predictors, which can affect the stability and interpretability of the regression model. Before conducting VIF it's essential to encode categorical variables."
   ]
  },
  {
   "cell_type": "code",
   "execution_count": 382,
   "metadata": {},
   "outputs": [],
   "source": [
    "#cleaned_data= cc_apps.drop(cc_apps.iloc[:,[6,9,11]],axis=1)\n",
    "#cleaned_data.head()"
   ]
  },
  {
   "attachments": {},
   "cell_type": "markdown",
   "metadata": {},
   "source": [
    "### Encoding categorical features"
   ]
  },
  {
   "attachments": {},
   "cell_type": "markdown",
   "metadata": {},
   "source": [
    "The remove_rare_values function processes the data frame and modifies its columns, removing values that are rare - they occur with a frequency of less than 5%."
   ]
  },
  {
   "cell_type": "code",
   "execution_count": 383,
   "metadata": {},
   "outputs": [],
   "source": [
    "def remove_rare_values(data):\n",
    "    data = data.copy()\n",
    "    for col in data.columns:\n",
    "        if col != data.columns[1] and data[col].dtype == 'object':\n",
    "            value_counts = data[col].value_counts(normalize=True) * 100\n",
    "            rare_values = value_counts[value_counts < 5].index\n",
    "            data = data[~data[col].isin(rare_values)].dropna()\n",
    "    return data"
   ]
  },
  {
   "cell_type": "code",
   "execution_count": 384,
   "metadata": {},
   "outputs": [],
   "source": [
    "def unique_val(data):\n",
    "    for i in range(len(data.columns)):\n",
    "        if data.dtypes[i] == 'object':\n",
    "            column_name = data.columns[i] \n",
    "            unikalne_wartosci = data.iloc[:, i].unique()\n",
    "            num_unik = len(unikalne_wartosci)\n",
    "            zliczenie = data.iloc[:, i].value_counts()\n",
    "            print(f\"Unikalne wartości {num_unik} z kolumny {column_name}: {unikalne_wartosci},\\nZliczone wartosci z kolumny {column_name}:\\n{zliczenie}\")\n"
   ]
  },
  {
   "attachments": {},
   "cell_type": "markdown",
   "metadata": {},
   "source": [
    "Before removing"
   ]
  },
  {
   "cell_type": "code",
   "execution_count": 385,
   "metadata": {},
   "outputs": [
    {
     "name": "stdout",
     "output_type": "stream",
     "text": [
      "Unikalne wartości 2 z kolumny 0: ['b' 'a'],\n",
      "Zliczone wartosci z kolumny 0:\n",
      "0\n",
      "b    463\n",
      "a    208\n",
      "Name: count, dtype: int64\n",
      "Unikalne wartości 3 z kolumny 2: ['u' 'y' 'l'],\n",
      "Zliczone wartosci z kolumny 2:\n",
      "2\n",
      "u    510\n",
      "y    159\n",
      "l      2\n",
      "Name: count, dtype: int64\n",
      "Unikalne wartości 3 z kolumny 3: ['g' 'p' 'gg'],\n",
      "Zliczone wartosci z kolumny 3:\n",
      "3\n",
      "g     510\n",
      "p     159\n",
      "gg      2\n",
      "Name: count, dtype: int64\n",
      "Unikalne wartości 14 z kolumny 4: ['w' 'q' 'm' 'r' 'cc' 'k' 'c' 'd' 'x' 'i' 'e' 'aa' 'ff' 'j'],\n",
      "Zliczone wartosci z kolumny 4:\n",
      "4\n",
      "c     135\n",
      "q      76\n",
      "w      63\n",
      "i      58\n",
      "aa     53\n",
      "ff     53\n",
      "k      50\n",
      "cc     40\n",
      "m      38\n",
      "x      38\n",
      "d      30\n",
      "e      24\n",
      "j      10\n",
      "r       3\n",
      "Name: count, dtype: int64\n",
      "Unikalne wartości 9 z kolumny 5: ['v' 'h' 'bb' 'ff' 'j' 'z' 'o' 'dd' 'n'],\n",
      "Zliczone wartosci z kolumny 5:\n",
      "5\n",
      "v     392\n",
      "h     137\n",
      "bb     57\n",
      "ff     57\n",
      "j       8\n",
      "z       8\n",
      "dd      6\n",
      "n       4\n",
      "o       2\n",
      "Name: count, dtype: int64\n",
      "Unikalne wartości 2 z kolumny 7: ['t' 'f'],\n",
      "Zliczone wartosci z kolumny 7:\n",
      "7\n",
      "t    358\n",
      "f    313\n",
      "Name: count, dtype: int64\n",
      "Unikalne wartości 2 z kolumny 8: ['t' 'f'],\n",
      "Zliczone wartosci z kolumny 8:\n",
      "8\n",
      "f    379\n",
      "t    292\n",
      "Name: count, dtype: int64\n",
      "Unikalne wartości 3 z kolumny 10: ['g' 's' 'p'],\n",
      "Zliczone wartosci z kolumny 10:\n",
      "10\n",
      "g    614\n",
      "s     55\n",
      "p      2\n",
      "Name: count, dtype: int64\n",
      "Unikalne wartości 2 z kolumny 12: ['+' '-'],\n",
      "Zliczone wartosci z kolumny 12:\n",
      "12\n",
      "-    371\n",
      "+    300\n",
      "Name: count, dtype: int64\n"
     ]
    }
   ],
   "source": [
    "unique_val(cc_apps)"
   ]
  },
  {
   "attachments": {},
   "cell_type": "markdown",
   "metadata": {},
   "source": [
    "After removing"
   ]
  },
  {
   "cell_type": "code",
   "execution_count": 386,
   "metadata": {},
   "outputs": [
    {
     "name": "stdout",
     "output_type": "stream",
     "text": [
      "Unikalne wartości 2 z kolumny 0: ['b' 'a'],\n",
      "Zliczone wartosci z kolumny 0:\n",
      "0\n",
      "b    411\n",
      "a    186\n",
      "Name: count, dtype: int64\n",
      "Unikalne wartości 2 z kolumny 2: ['u' 'y'],\n",
      "Zliczone wartosci z kolumny 2:\n",
      "2\n",
      "u    456\n",
      "y    141\n",
      "Name: count, dtype: int64\n",
      "Unikalne wartości 2 z kolumny 3: ['g' 'p'],\n",
      "Zliczone wartosci z kolumny 3:\n",
      "3\n",
      "g    456\n",
      "p    141\n",
      "Name: count, dtype: int64\n",
      "Unikalne wartości 10 z kolumny 4: ['w' 'q' 'm' 'cc' 'k' 'c' 'x' 'i' 'aa' 'ff'],\n",
      "Zliczone wartosci z kolumny 4:\n",
      "4\n",
      "c     132\n",
      "q      75\n",
      "w      63\n",
      "i      57\n",
      "aa     53\n",
      "ff     52\n",
      "k      50\n",
      "cc     39\n",
      "m      38\n",
      "x      38\n",
      "Name: count, dtype: int64\n",
      "Unikalne wartości 4 z kolumny 5: ['v' 'h' 'bb' 'ff'],\n",
      "Zliczone wartosci z kolumny 5:\n",
      "5\n",
      "v     363\n",
      "h     127\n",
      "ff     54\n",
      "bb     53\n",
      "Name: count, dtype: int64\n",
      "Unikalne wartości 2 z kolumny 7: ['t' 'f'],\n",
      "Zliczone wartosci z kolumny 7:\n",
      "7\n",
      "t    327\n",
      "f    270\n",
      "Name: count, dtype: int64\n",
      "Unikalne wartości 2 z kolumny 8: ['t' 'f'],\n",
      "Zliczone wartosci z kolumny 8:\n",
      "8\n",
      "f    326\n",
      "t    271\n",
      "Name: count, dtype: int64\n",
      "Unikalne wartości 2 z kolumny 10: ['g' 's'],\n",
      "Zliczone wartosci z kolumny 10:\n",
      "10\n",
      "g    552\n",
      "s     45\n",
      "Name: count, dtype: int64\n",
      "Unikalne wartości 2 z kolumny 12: ['+' '-'],\n",
      "Zliczone wartosci z kolumny 12:\n",
      "12\n",
      "-    327\n",
      "+    270\n",
      "Name: count, dtype: int64\n"
     ]
    }
   ],
   "source": [
    "cc_apps=remove_rare_values(cc_apps)\n",
    "unique_val(cc_apps)"
   ]
  },
  {
   "cell_type": "code",
   "execution_count": 387,
   "metadata": {},
   "outputs": [],
   "source": [
    "def transfor_cat(data, original_columns):\n",
    "    encoder = OneHotEncoder(sparse_output=False)\n",
    "    encoded_data = encoder.fit_transform(data)\n",
    "    encoded_df = pd.DataFrame(encoded_data, columns=encoder.get_feature_names_out(original_columns))\n",
    "    return encoded_df"
   ]
  },
  {
   "cell_type": "code",
   "execution_count": 388,
   "metadata": {},
   "outputs": [],
   "source": [
    "def wspol_VIF(data):\n",
    "    data1=data.copy()\n",
    "    data1 = add_constant(data1)\n",
    "    VIF_data = pd.DataFrame()\n",
    "    VIF_data['feature'] = data1.columns\n",
    "    VIF_data['VIF'] = [variance_inflation_factor(data1.values, i) for i in range(data1.shape[1])]\n",
    "    return VIF_data"
   ]
  },
  {
   "cell_type": "code",
   "execution_count": 389,
   "metadata": {},
   "outputs": [
    {
     "data": {
      "text/html": [
       "<div>\n",
       "<style scoped>\n",
       "    .dataframe tbody tr th:only-of-type {\n",
       "        vertical-align: middle;\n",
       "    }\n",
       "\n",
       "    .dataframe tbody tr th {\n",
       "        vertical-align: top;\n",
       "    }\n",
       "\n",
       "    .dataframe thead th {\n",
       "        text-align: right;\n",
       "    }\n",
       "</style>\n",
       "<table border=\"1\" class=\"dataframe\">\n",
       "  <thead>\n",
       "    <tr style=\"text-align: right;\">\n",
       "      <th></th>\n",
       "      <th>0</th>\n",
       "      <th>1</th>\n",
       "      <th>2</th>\n",
       "      <th>3</th>\n",
       "      <th>4</th>\n",
       "      <th>5</th>\n",
       "      <th>6</th>\n",
       "      <th>7</th>\n",
       "      <th>8</th>\n",
       "      <th>9</th>\n",
       "      <th>10</th>\n",
       "      <th>11</th>\n",
       "      <th>12</th>\n",
       "    </tr>\n",
       "  </thead>\n",
       "  <tbody>\n",
       "    <tr>\n",
       "      <th>0</th>\n",
       "      <td>b</td>\n",
       "      <td>0.000</td>\n",
       "      <td>u</td>\n",
       "      <td>g</td>\n",
       "      <td>w</td>\n",
       "      <td>v</td>\n",
       "      <td>1.25</td>\n",
       "      <td>t</td>\n",
       "      <td>t</td>\n",
       "      <td>1</td>\n",
       "      <td>g</td>\n",
       "      <td>0</td>\n",
       "      <td>+</td>\n",
       "    </tr>\n",
       "    <tr>\n",
       "      <th>1</th>\n",
       "      <td>a</td>\n",
       "      <td>4.460</td>\n",
       "      <td>u</td>\n",
       "      <td>g</td>\n",
       "      <td>q</td>\n",
       "      <td>h</td>\n",
       "      <td>3.04</td>\n",
       "      <td>t</td>\n",
       "      <td>t</td>\n",
       "      <td>6</td>\n",
       "      <td>g</td>\n",
       "      <td>560</td>\n",
       "      <td>+</td>\n",
       "    </tr>\n",
       "    <tr>\n",
       "      <th>2</th>\n",
       "      <td>a</td>\n",
       "      <td>0.500</td>\n",
       "      <td>u</td>\n",
       "      <td>g</td>\n",
       "      <td>q</td>\n",
       "      <td>h</td>\n",
       "      <td>1.50</td>\n",
       "      <td>t</td>\n",
       "      <td>f</td>\n",
       "      <td>0</td>\n",
       "      <td>g</td>\n",
       "      <td>824</td>\n",
       "      <td>+</td>\n",
       "    </tr>\n",
       "    <tr>\n",
       "      <th>3</th>\n",
       "      <td>b</td>\n",
       "      <td>1.540</td>\n",
       "      <td>u</td>\n",
       "      <td>g</td>\n",
       "      <td>w</td>\n",
       "      <td>v</td>\n",
       "      <td>3.75</td>\n",
       "      <td>t</td>\n",
       "      <td>t</td>\n",
       "      <td>5</td>\n",
       "      <td>g</td>\n",
       "      <td>3</td>\n",
       "      <td>+</td>\n",
       "    </tr>\n",
       "    <tr>\n",
       "      <th>4</th>\n",
       "      <td>b</td>\n",
       "      <td>5.625</td>\n",
       "      <td>u</td>\n",
       "      <td>g</td>\n",
       "      <td>w</td>\n",
       "      <td>v</td>\n",
       "      <td>1.71</td>\n",
       "      <td>t</td>\n",
       "      <td>f</td>\n",
       "      <td>0</td>\n",
       "      <td>s</td>\n",
       "      <td>0</td>\n",
       "      <td>+</td>\n",
       "    </tr>\n",
       "  </tbody>\n",
       "</table>\n",
       "</div>"
      ],
      "text/plain": [
       "   0      1  2  3  4  5     6  7  8  9 10   11 12\n",
       "0  b  0.000  u  g  w  v  1.25  t  t  1  g    0  +\n",
       "1  a  4.460  u  g  q  h  3.04  t  t  6  g  560  +\n",
       "2  a  0.500  u  g  q  h  1.50  t  f  0  g  824  +\n",
       "3  b  1.540  u  g  w  v  3.75  t  t  5  g    3  +\n",
       "4  b  5.625  u  g  w  v  1.71  t  f  0  s    0  +"
      ]
     },
     "execution_count": 389,
     "metadata": {},
     "output_type": "execute_result"
    }
   ],
   "source": [
    "cc_apps.head()"
   ]
  },
  {
   "cell_type": "code",
   "execution_count": 390,
   "metadata": {},
   "outputs": [],
   "source": [
    "columns_to_transform = [0, 2, 3, 4, 5, 7, 8, 10]\n",
    "data_to_transform = cc_apps.iloc[:, columns_to_transform]\n",
    "original_columns = cc_apps.columns[columns_to_transform]\n",
    "raw_data = transfor_cat(data_to_transform, original_columns)"
   ]
  },
  {
   "cell_type": "code",
   "execution_count": 391,
   "metadata": {},
   "outputs": [],
   "source": [
    "raw_data.to_excel('grab.xlsx')"
   ]
  },
  {
   "cell_type": "code",
   "execution_count": 392,
   "metadata": {},
   "outputs": [
    {
     "name": "stderr",
     "output_type": "stream",
     "text": [
      "/opt/homebrew/lib/python3.11/site-packages/statsmodels/regression/linear_model.py:1782: RuntimeWarning: divide by zero encountered in scalar divide\n",
      "  return 1 - self.ssr/self.centered_tss\n",
      "/opt/homebrew/lib/python3.11/site-packages/statsmodels/stats/outliers_influence.py:198: RuntimeWarning: divide by zero encountered in scalar divide\n",
      "  vif = 1. / (1. - r_squared_i)\n"
     ]
    },
    {
     "data": {
      "text/html": [
       "<div>\n",
       "<style scoped>\n",
       "    .dataframe tbody tr th:only-of-type {\n",
       "        vertical-align: middle;\n",
       "    }\n",
       "\n",
       "    .dataframe tbody tr th {\n",
       "        vertical-align: top;\n",
       "    }\n",
       "\n",
       "    .dataframe thead th {\n",
       "        text-align: right;\n",
       "    }\n",
       "</style>\n",
       "<table border=\"1\" class=\"dataframe\">\n",
       "  <thead>\n",
       "    <tr style=\"text-align: right;\">\n",
       "      <th></th>\n",
       "      <th>feature</th>\n",
       "      <th>VIF</th>\n",
       "    </tr>\n",
       "  </thead>\n",
       "  <tbody>\n",
       "    <tr>\n",
       "      <th>0</th>\n",
       "      <td>const</td>\n",
       "      <td>0.0</td>\n",
       "    </tr>\n",
       "    <tr>\n",
       "      <th>1</th>\n",
       "      <td>0_a</td>\n",
       "      <td>inf</td>\n",
       "    </tr>\n",
       "    <tr>\n",
       "      <th>2</th>\n",
       "      <td>0_b</td>\n",
       "      <td>inf</td>\n",
       "    </tr>\n",
       "    <tr>\n",
       "      <th>3</th>\n",
       "      <td>2_u</td>\n",
       "      <td>inf</td>\n",
       "    </tr>\n",
       "    <tr>\n",
       "      <th>4</th>\n",
       "      <td>2_y</td>\n",
       "      <td>inf</td>\n",
       "    </tr>\n",
       "    <tr>\n",
       "      <th>5</th>\n",
       "      <td>3_g</td>\n",
       "      <td>inf</td>\n",
       "    </tr>\n",
       "    <tr>\n",
       "      <th>6</th>\n",
       "      <td>3_p</td>\n",
       "      <td>inf</td>\n",
       "    </tr>\n",
       "    <tr>\n",
       "      <th>7</th>\n",
       "      <td>4_aa</td>\n",
       "      <td>inf</td>\n",
       "    </tr>\n",
       "    <tr>\n",
       "      <th>8</th>\n",
       "      <td>4_c</td>\n",
       "      <td>inf</td>\n",
       "    </tr>\n",
       "    <tr>\n",
       "      <th>9</th>\n",
       "      <td>4_cc</td>\n",
       "      <td>inf</td>\n",
       "    </tr>\n",
       "    <tr>\n",
       "      <th>10</th>\n",
       "      <td>4_ff</td>\n",
       "      <td>inf</td>\n",
       "    </tr>\n",
       "    <tr>\n",
       "      <th>11</th>\n",
       "      <td>4_i</td>\n",
       "      <td>inf</td>\n",
       "    </tr>\n",
       "    <tr>\n",
       "      <th>12</th>\n",
       "      <td>4_k</td>\n",
       "      <td>inf</td>\n",
       "    </tr>\n",
       "    <tr>\n",
       "      <th>13</th>\n",
       "      <td>4_m</td>\n",
       "      <td>inf</td>\n",
       "    </tr>\n",
       "    <tr>\n",
       "      <th>14</th>\n",
       "      <td>4_q</td>\n",
       "      <td>inf</td>\n",
       "    </tr>\n",
       "    <tr>\n",
       "      <th>15</th>\n",
       "      <td>4_w</td>\n",
       "      <td>inf</td>\n",
       "    </tr>\n",
       "    <tr>\n",
       "      <th>16</th>\n",
       "      <td>4_x</td>\n",
       "      <td>inf</td>\n",
       "    </tr>\n",
       "    <tr>\n",
       "      <th>17</th>\n",
       "      <td>5_bb</td>\n",
       "      <td>inf</td>\n",
       "    </tr>\n",
       "    <tr>\n",
       "      <th>18</th>\n",
       "      <td>5_ff</td>\n",
       "      <td>inf</td>\n",
       "    </tr>\n",
       "    <tr>\n",
       "      <th>19</th>\n",
       "      <td>5_h</td>\n",
       "      <td>inf</td>\n",
       "    </tr>\n",
       "    <tr>\n",
       "      <th>20</th>\n",
       "      <td>5_v</td>\n",
       "      <td>inf</td>\n",
       "    </tr>\n",
       "    <tr>\n",
       "      <th>21</th>\n",
       "      <td>7_f</td>\n",
       "      <td>inf</td>\n",
       "    </tr>\n",
       "    <tr>\n",
       "      <th>22</th>\n",
       "      <td>7_t</td>\n",
       "      <td>inf</td>\n",
       "    </tr>\n",
       "    <tr>\n",
       "      <th>23</th>\n",
       "      <td>8_f</td>\n",
       "      <td>inf</td>\n",
       "    </tr>\n",
       "    <tr>\n",
       "      <th>24</th>\n",
       "      <td>8_t</td>\n",
       "      <td>inf</td>\n",
       "    </tr>\n",
       "    <tr>\n",
       "      <th>25</th>\n",
       "      <td>10_g</td>\n",
       "      <td>inf</td>\n",
       "    </tr>\n",
       "    <tr>\n",
       "      <th>26</th>\n",
       "      <td>10_s</td>\n",
       "      <td>inf</td>\n",
       "    </tr>\n",
       "  </tbody>\n",
       "</table>\n",
       "</div>"
      ],
      "text/plain": [
       "   feature  VIF\n",
       "0    const  0.0\n",
       "1      0_a  inf\n",
       "2      0_b  inf\n",
       "3      2_u  inf\n",
       "4      2_y  inf\n",
       "5      3_g  inf\n",
       "6      3_p  inf\n",
       "7     4_aa  inf\n",
       "8      4_c  inf\n",
       "9     4_cc  inf\n",
       "10    4_ff  inf\n",
       "11     4_i  inf\n",
       "12     4_k  inf\n",
       "13     4_m  inf\n",
       "14     4_q  inf\n",
       "15     4_w  inf\n",
       "16     4_x  inf\n",
       "17    5_bb  inf\n",
       "18    5_ff  inf\n",
       "19     5_h  inf\n",
       "20     5_v  inf\n",
       "21     7_f  inf\n",
       "22     7_t  inf\n",
       "23     8_f  inf\n",
       "24     8_t  inf\n",
       "25    10_g  inf\n",
       "26    10_s  inf"
      ]
     },
     "execution_count": 392,
     "metadata": {},
     "output_type": "execute_result"
    }
   ],
   "source": [
    "wspol_VIF(raw_data)"
   ]
  },
  {
   "cell_type": "code",
   "execution_count": 393,
   "metadata": {},
   "outputs": [],
   "source": [
    "from sklearn.preprocessing import StandardScaler\n",
    "from sklearn.decomposition import PCA"
   ]
  },
  {
   "cell_type": "code",
   "execution_count": 394,
   "metadata": {},
   "outputs": [
    {
     "data": {
      "image/png": "[encoded data removed]",
      "text/plain": [
       "<Figure size 1000x600 with 1 Axes>"
      ]
     },
     "metadata": {},
     "output_type": "display_data"
    }
   ],
   "source": [
    "pipe = Pipeline([\n",
    "        ('scaler', StandardScaler()),\n",
    "        ('reducer',PCA())])\n",
    "after_pca=pipe.fit(raw_data) \n",
    "var= pipe['reducer'].explained_variance_ratio_\n",
    "plt.figure(figsize=(10, 6))\n",
    "plt.plot(np.arange(1, len(var)+1),var)\n",
    "plt.xlabel('Numer poszczególnych głównych składowych',labelpad=10)\n",
    "plt.ylabel('Współczynnik wyjaśnionej wariancji',labelpad=10)\n",
    "plt.xlim(left=1)\n",
    "plt.xticks(np.arange(1,34,2))\n",
    "plt.grid(True)\n",
    "plt.show()"
   ]
  },
  {
   "cell_type": "code",
   "execution_count": 395,
   "metadata": {},
   "outputs": [
    {
     "data": {
      "image/png": "[encoded data removed]",
      "text/plain": [
       "<Figure size 1000x600 with 1 Axes>"
      ]
     },
     "metadata": {},
     "output_type": "display_data"
    }
   ],
   "source": [
    "cumulative_var = np.cumsum(var)\n",
    "plt.figure(figsize=(10, 6))\n",
    "plt.plot(np.arange(1, len(cumulative_var)+1), cumulative_var)\n",
    "plt.xlabel('Numer poszczególnych głównych składowych',labelpad=10)\n",
    "plt.ylabel('Skumulowany współczynnik wyjaśnionej wariancji',labelpad=10)\n",
    "plt.xlim(left=1)\n",
    "plt.xticks(np.arange(1,34,2))\n",
    "plt.yticks(np.arange(0,1.1,0.1))\n",
    "plt.grid(True)\n",
    "plt.show()"
   ]
  },
  {
   "cell_type": "code",
   "execution_count": 396,
   "metadata": {},
   "outputs": [],
   "source": [
    "pipe = Pipeline([\n",
    "        ('scaler', StandardScaler()),\n",
    "        ('reducer',PCA(n_components=8))]) \n",
    "pca_ready=pipe.fit_transform(raw_data)"
   ]
  },
  {
   "cell_type": "code",
   "execution_count": 397,
   "metadata": {},
   "outputs": [
    {
     "data": {
      "text/html": [
       "<div>\n",
       "<style scoped>\n",
       "    .dataframe tbody tr th:only-of-type {\n",
       "        vertical-align: middle;\n",
       "    }\n",
       "\n",
       "    .dataframe tbody tr th {\n",
       "        vertical-align: top;\n",
       "    }\n",
       "\n",
       "    .dataframe thead th {\n",
       "        text-align: right;\n",
       "    }\n",
       "</style>\n",
       "<table border=\"1\" class=\"dataframe\">\n",
       "  <thead>\n",
       "    <tr style=\"text-align: right;\">\n",
       "      <th></th>\n",
       "      <th>PC1</th>\n",
       "      <th>PC2</th>\n",
       "      <th>PC3</th>\n",
       "      <th>PC4</th>\n",
       "      <th>PC5</th>\n",
       "      <th>PC6</th>\n",
       "      <th>PC7</th>\n",
       "      <th>PC8</th>\n",
       "    </tr>\n",
       "  </thead>\n",
       "  <tbody>\n",
       "    <tr>\n",
       "      <th>0</th>\n",
       "      <td>-1.797291</td>\n",
       "      <td>-0.621205</td>\n",
       "      <td>-1.517045</td>\n",
       "      <td>-0.430403</td>\n",
       "      <td>-1.736869</td>\n",
       "      <td>0.833606</td>\n",
       "      <td>0.561766</td>\n",
       "      <td>-0.983915</td>\n",
       "    </tr>\n",
       "    <tr>\n",
       "      <th>1</th>\n",
       "      <td>-2.700255</td>\n",
       "      <td>-2.231360</td>\n",
       "      <td>1.204899</td>\n",
       "      <td>-0.132517</td>\n",
       "      <td>2.306261</td>\n",
       "      <td>-0.262643</td>\n",
       "      <td>-0.524536</td>\n",
       "      <td>0.335704</td>\n",
       "    </tr>\n",
       "    <tr>\n",
       "      <th>2</th>\n",
       "      <td>-1.793692</td>\n",
       "      <td>-0.854128</td>\n",
       "      <td>1.376344</td>\n",
       "      <td>-0.106774</td>\n",
       "      <td>2.777146</td>\n",
       "      <td>-1.165169</td>\n",
       "      <td>-1.419622</td>\n",
       "      <td>-0.280870</td>\n",
       "    </tr>\n",
       "    <tr>\n",
       "      <th>3</th>\n",
       "      <td>-1.797291</td>\n",
       "      <td>-0.621205</td>\n",
       "      <td>-1.517045</td>\n",
       "      <td>-0.430403</td>\n",
       "      <td>-1.736869</td>\n",
       "      <td>0.833606</td>\n",
       "      <td>0.561766</td>\n",
       "      <td>-0.983915</td>\n",
       "    </tr>\n",
       "    <tr>\n",
       "      <th>4</th>\n",
       "      <td>-0.477420</td>\n",
       "      <td>3.238294</td>\n",
       "      <td>-2.199192</td>\n",
       "      <td>-0.191994</td>\n",
       "      <td>1.645241</td>\n",
       "      <td>2.884098</td>\n",
       "      <td>0.148576</td>\n",
       "      <td>-1.253831</td>\n",
       "    </tr>\n",
       "  </tbody>\n",
       "</table>\n",
       "</div>"
      ],
      "text/plain": [
       "        PC1       PC2       PC3       PC4       PC5       PC6       PC7  \\\n",
       "0 -1.797291 -0.621205 -1.517045 -0.430403 -1.736869  0.833606  0.561766   \n",
       "1 -2.700255 -2.231360  1.204899 -0.132517  2.306261 -0.262643 -0.524536   \n",
       "2 -1.793692 -0.854128  1.376344 -0.106774  2.777146 -1.165169 -1.419622   \n",
       "3 -1.797291 -0.621205 -1.517045 -0.430403 -1.736869  0.833606  0.561766   \n",
       "4 -0.477420  3.238294 -2.199192 -0.191994  1.645241  2.884098  0.148576   \n",
       "\n",
       "        PC8  \n",
       "0 -0.983915  \n",
       "1  0.335704  \n",
       "2 -0.280870  \n",
       "3 -0.983915  \n",
       "4 -1.253831  "
      ]
     },
     "execution_count": 397,
     "metadata": {},
     "output_type": "execute_result"
    }
   ],
   "source": [
    "pca_df = pd.DataFrame(pca_ready, columns=[f'PC{i+1}' for i in range(8)])\n",
    "pca_df.head()"
   ]
  },
  {
   "cell_type": "code",
   "execution_count": 398,
   "metadata": {},
   "outputs": [
    {
     "data": {
      "text/html": [
       "<div>\n",
       "<style scoped>\n",
       "    .dataframe tbody tr th:only-of-type {\n",
       "        vertical-align: middle;\n",
       "    }\n",
       "\n",
       "    .dataframe tbody tr th {\n",
       "        vertical-align: top;\n",
       "    }\n",
       "\n",
       "    .dataframe thead th {\n",
       "        text-align: right;\n",
       "    }\n",
       "</style>\n",
       "<table border=\"1\" class=\"dataframe\">\n",
       "  <thead>\n",
       "    <tr style=\"text-align: right;\">\n",
       "      <th></th>\n",
       "      <th>feature</th>\n",
       "      <th>VIF</th>\n",
       "    </tr>\n",
       "  </thead>\n",
       "  <tbody>\n",
       "    <tr>\n",
       "      <th>0</th>\n",
       "      <td>const</td>\n",
       "      <td>1.0</td>\n",
       "    </tr>\n",
       "    <tr>\n",
       "      <th>1</th>\n",
       "      <td>PC1</td>\n",
       "      <td>1.0</td>\n",
       "    </tr>\n",
       "    <tr>\n",
       "      <th>2</th>\n",
       "      <td>PC2</td>\n",
       "      <td>1.0</td>\n",
       "    </tr>\n",
       "    <tr>\n",
       "      <th>3</th>\n",
       "      <td>PC3</td>\n",
       "      <td>1.0</td>\n",
       "    </tr>\n",
       "    <tr>\n",
       "      <th>4</th>\n",
       "      <td>PC4</td>\n",
       "      <td>1.0</td>\n",
       "    </tr>\n",
       "    <tr>\n",
       "      <th>5</th>\n",
       "      <td>PC5</td>\n",
       "      <td>1.0</td>\n",
       "    </tr>\n",
       "    <tr>\n",
       "      <th>6</th>\n",
       "      <td>PC6</td>\n",
       "      <td>1.0</td>\n",
       "    </tr>\n",
       "    <tr>\n",
       "      <th>7</th>\n",
       "      <td>PC7</td>\n",
       "      <td>1.0</td>\n",
       "    </tr>\n",
       "    <tr>\n",
       "      <th>8</th>\n",
       "      <td>PC8</td>\n",
       "      <td>1.0</td>\n",
       "    </tr>\n",
       "  </tbody>\n",
       "</table>\n",
       "</div>"
      ],
      "text/plain": [
       "  feature  VIF\n",
       "0   const  1.0\n",
       "1     PC1  1.0\n",
       "2     PC2  1.0\n",
       "3     PC3  1.0\n",
       "4     PC4  1.0\n",
       "5     PC5  1.0\n",
       "6     PC6  1.0\n",
       "7     PC7  1.0\n",
       "8     PC8  1.0"
      ]
     },
     "execution_count": 398,
     "metadata": {},
     "output_type": "execute_result"
    }
   ],
   "source": [
    "wspol_VIF(pca_df)"
   ]
  },
  {
   "attachments": {},
   "cell_type": "markdown",
   "metadata": {},
   "source": [
    "## Model"
   ]
  },
  {
   "attachments": {},
   "cell_type": "markdown",
   "metadata": {},
   "source": [
    "Model with raw data"
   ]
  },
  {
   "cell_type": "code",
   "execution_count": 399,
   "metadata": {},
   "outputs": [],
   "source": [
    "y_dt=cc_apps.iloc[:,12]\n",
    "X_trainr, X_testr, y_trainr, y_testr = train_test_split(pca_df,y_dt,test_size=0.3,random_state=123)\n",
    "default_lr_params = {\n",
    "        'C': 1.0,\n",
    "        'max_iter': 100,\n",
    "        'solver': 'lbfgs',\n",
    "        'penalty': 'l2',\n",
    "        'tol': 1e-4}"
   ]
  },
  {
   "cell_type": "code",
   "execution_count": 400,
   "metadata": {},
   "outputs": [],
   "source": [
    "def init_model(X_train, X_test, y_train, y_test,lr_params=None):\n",
    "       if lr_params is None:\n",
    "              lr_params = {}\n",
    "       steps=[(\"minmaxscaler\",MinMaxScaler()),\n",
    "              (\"logisticregression\",LogisticRegression(**lr_params))]\n",
    "       pipeline=Pipeline(steps)\n",
    "       pipeline.fit(X_train,y_train)\n",
    "       score_tr=round(pipeline.score(X_train,y_train),3)\n",
    "       pred_y=pipeline.predict(X_test)\n",
    "       prawd=pipeline.predict_proba(X_test)\n",
    "       score_ts=round(pipeline.score(X_test,y_test),3)\n",
    "       conf=confusion_matrix(y_test,pred_y)\n",
    "       print(f\"Training Score is equal: {score_tr}\\nTesting Score is equal: {score_ts}\\n Confusion matrix\\n {conf}\")\n",
    "       return pred_y, prawd, pipeline"
   ]
  },
  {
   "cell_type": "code",
   "execution_count": 401,
   "metadata": {},
   "outputs": [
    {
     "name": "stdout",
     "output_type": "stream",
     "text": [
      "Training Score is equal: 0.875\n",
      "Testing Score is equal: 0.85\n",
      " Confusion matrix\n",
      " [[69 14]\n",
      " [13 84]]\n"
     ]
    }
   ],
   "source": [
    "predictionr, probabr, pipeliner = init_model(X_trainr, X_testr, y_trainr, y_testr,default_lr_params)"
   ]
  },
  {
   "cell_type": "code",
   "execution_count": 402,
   "metadata": {},
   "outputs": [],
   "source": [
    "def tunning(X_train,y_train,pipeline,penalty,C,tol,iter,solv):\n",
    "    kf=KFold(n_splits=10,random_state=123,shuffle=True)\n",
    "    param_grid = {\n",
    "        \"logisticregression__penalty\": penalty,\n",
    "        \"logisticregression__C\": C,\n",
    "        \"logisticregression__tol\": tol,\n",
    "        \"logisticregression__max_iter\": iter,\n",
    "        \"logisticregression__solver\":solv\n",
    "    }\n",
    "\n",
    "    model=GridSearchCV(pipeline,param_grid,cv=kf)\n",
    "    model.fit(X_train,y_train)\n",
    "    print(f\"Best cross-validation score: {round(model.best_score_, 3)}\")\n",
    "    return (model.best_params_)"
   ]
  },
  {
   "cell_type": "code",
   "execution_count": 403,
   "metadata": {},
   "outputs": [],
   "source": [
    "def dict_for_init_model(after_tunning):\n",
    "    cleaned_params = {}\n",
    "    for key, value in after_tunning.items():\n",
    "        if '__' in key:\n",
    "            new_key = key.split('__', 1)[1]\n",
    "            cleaned_params[new_key] = value\n",
    "        else:\n",
    "            cleaned_params[key] = value\n",
    "    return cleaned_params"
   ]
  },
  {
   "attachments": {},
   "cell_type": "markdown",
   "metadata": {},
   "source": [
    "Checking solvers:\"lbfgs\",\"newton-cg\" for raw model"
   ]
  },
  {
   "cell_type": "code",
   "execution_count": 404,
   "metadata": {},
   "outputs": [
    {
     "name": "stdout",
     "output_type": "stream",
     "text": [
      "Best cross-validation score: 0.866\n"
     ]
    },
    {
     "data": {
      "text/plain": [
       "{'logisticregression__C': 10,\n",
       " 'logisticregression__max_iter': 100,\n",
       " 'logisticregression__penalty': 'l2',\n",
       " 'logisticregression__solver': 'lbfgs',\n",
       " 'logisticregression__tol': 0.01}"
      ]
     },
     "execution_count": 404,
     "metadata": {},
     "output_type": "execute_result"
    }
   ],
   "source": [
    "tunning(X_trainr,y_trainr,pipeliner,[\"l2\"],[0.001, 0.01, 0.1, 1, 10],[0.01, 0.001, 0.0001],np.arange(100,200,50),[\"lbfgs\",\"newton-cg\"])"
   ]
  },
  {
   "cell_type": "code",
   "execution_count": 405,
   "metadata": {},
   "outputs": [
    {
     "name": "stdout",
     "output_type": "stream",
     "text": [
      "Best cross-validation score: 0.866\n"
     ]
    },
    {
     "data": {
      "text/plain": [
       "{'logisticregression__C': 10.0,\n",
       " 'logisticregression__max_iter': 50,\n",
       " 'logisticregression__penalty': 'l2',\n",
       " 'logisticregression__solver': 'lbfgs',\n",
       " 'logisticregression__tol': 0.0}"
      ]
     },
     "execution_count": 405,
     "metadata": {},
     "output_type": "execute_result"
    }
   ],
   "source": [
    "tun_lbfgs=tunning(X_trainr,y_trainr,pipeliner,[\"l2\"],np.arange(10,11,0.1),np.arange(0,0.1,0.01),np.arange(50,100,50),['lbfgs'])\n",
    "tun_lbfgs"
   ]
  },
  {
   "cell_type": "code",
   "execution_count": 406,
   "metadata": {},
   "outputs": [
    {
     "name": "stdout",
     "output_type": "stream",
     "text": [
      "Training Score is equal: 0.871\n",
      "Testing Score is equal: 0.844\n",
      " Confusion matrix\n",
      " [[68 15]\n",
      " [13 84]]\n"
     ]
    }
   ],
   "source": [
    "tun_lbfgs=dict_for_init_model(tun_lbfgs)\n",
    "predictionlb, probablb, pipelinelb = init_model(X_trainr, X_testr, y_trainr, y_testr,lr_params=tun_lbfgs)"
   ]
  },
  {
   "attachments": {},
   "cell_type": "markdown",
   "metadata": {},
   "source": [
    "Checking solvers: \"liblinear\",\"saga\" for raw model"
   ]
  },
  {
   "cell_type": "code",
   "execution_count": 407,
   "metadata": {},
   "outputs": [
    {
     "name": "stdout",
     "output_type": "stream",
     "text": [
      "Best cross-validation score: 0.883\n"
     ]
    },
    {
     "data": {
      "text/plain": [
       "{'logisticregression__C': 1.1,\n",
       " 'logisticregression__max_iter': 420,\n",
       " 'logisticregression__penalty': 'l2',\n",
       " 'logisticregression__solver': 'saga',\n",
       " 'logisticregression__tol': 0.09}"
      ]
     },
     "execution_count": 407,
     "metadata": {},
     "output_type": "execute_result"
    }
   ],
   "source": [
    "tun_saga=tunning(X_trainr,y_trainr,pipeliner,[\"l1\",\"l2\"],np.arange(0.1,1.2,0.1),np.arange(0.01,0.1,0.01),np.arange(400,700,20),[\"liblinear\",\"saga\"])\n",
    "tun_saga"
   ]
  },
  {
   "cell_type": "code",
   "execution_count": 408,
   "metadata": {},
   "outputs": [
    {
     "name": "stdout",
     "output_type": "stream",
     "text": [
      "Training Score is equal: 0.871\n",
      "Testing Score is equal: 0.856\n",
      " Confusion matrix\n",
      " [[70 13]\n",
      " [13 84]]\n"
     ]
    }
   ],
   "source": [
    "tun_saga=dict_for_init_model(tun_saga)\n",
    "predictionlb, probablb, pipelinelb = init_model(X_trainr, X_testr, y_trainr, y_testr,lr_params=tun_saga)"
   ]
  }
 ],
 "metadata": {
  "kernelspec": {
   "display_name": "Python 3",
   "language": "python",
   "name": "python3"
  },
  "language_info": {
   "codemirror_mode": {
    "name": "ipython",
    "version": 3
   },
   "file_extension": ".py",
   "mimetype": "text/x-python",
   "name": "python",
   "nbconvert_exporter": "python",
   "pygments_lexer": "ipython3",
   "version": "3.11.9"
  },
  "orig_nbformat": 4,
  "vscode": {
   "interpreter": {
    "hash": "7cfd7c3399b99f4a5f9d0d6ec718fcb272d0ad2f1a4f343b75bec0c80891dc8e"
   }
  }
 },
 "nbformat": 4,
 "nbformat_minor": 2
}
